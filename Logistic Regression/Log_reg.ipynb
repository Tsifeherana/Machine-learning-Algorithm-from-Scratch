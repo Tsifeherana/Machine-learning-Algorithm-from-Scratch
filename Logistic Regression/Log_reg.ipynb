{
 "cells": [
  {
   "cell_type": "code",
   "execution_count": 5,
   "id": "3fa32a17-f5ac-46ba-bea3-769d8834aa65",
   "metadata": {
    "editable": true,
    "slideshow": {
     "slide_type": ""
    },
    "tags": []
   },
   "outputs": [
    {
     "name": "stdout",
     "output_type": "stream",
     "text": [
      "Requirement already satisfied: matplotlib in /home/tsifeherana/.config/jupyterlab-desktop/jlab_server/lib/python3.12/site-packages (3.9.2)\n",
      "Requirement already satisfied: contourpy>=1.0.1 in /home/tsifeherana/.config/jupyterlab-desktop/jlab_server/lib/python3.12/site-packages (from matplotlib) (1.2.1)\n",
      "Requirement already satisfied: cycler>=0.10 in /home/tsifeherana/.config/jupyterlab-desktop/jlab_server/lib/python3.12/site-packages (from matplotlib) (0.12.1)\n",
      "Requirement already satisfied: fonttools>=4.22.0 in /home/tsifeherana/.config/jupyterlab-desktop/jlab_server/lib/python3.12/site-packages (from matplotlib) (4.53.1)\n",
      "Requirement already satisfied: kiwisolver>=1.3.1 in /home/tsifeherana/.config/jupyterlab-desktop/jlab_server/lib/python3.12/site-packages (from matplotlib) (1.4.5)\n",
      "Requirement already satisfied: numpy>=1.23 in /home/tsifeherana/.config/jupyterlab-desktop/jlab_server/lib/python3.12/site-packages (from matplotlib) (2.1.0)\n",
      "Requirement already satisfied: packaging>=20.0 in /home/tsifeherana/.config/jupyterlab-desktop/jlab_server/lib/python3.12/site-packages (from matplotlib) (24.1)\n",
      "Requirement already satisfied: pillow>=8 in /home/tsifeherana/.config/jupyterlab-desktop/jlab_server/lib/python3.12/site-packages (from matplotlib) (10.4.0)\n",
      "Requirement already satisfied: pyparsing>=2.3.1 in /home/tsifeherana/.config/jupyterlab-desktop/jlab_server/lib/python3.12/site-packages (from matplotlib) (3.1.4)\n",
      "Requirement already satisfied: python-dateutil>=2.7 in /home/tsifeherana/.config/jupyterlab-desktop/jlab_server/lib/python3.12/site-packages (from matplotlib) (2.9.0)\n",
      "Requirement already satisfied: six>=1.5 in /home/tsifeherana/.config/jupyterlab-desktop/jlab_server/lib/python3.12/site-packages (from python-dateutil>=2.7->matplotlib) (1.16.0)\n"
     ]
    }
   ],
   "source": [
    "!pip install matplotlib\n",
    "import numpy as np\n",
    "import math\n",
    "import matplotlib.pyplot as plt\n",
    "from utils import *\n",
    "import copy"
   ]
  },
  {
   "cell_type": "code",
   "execution_count": 6,
   "id": "32616e40-d4df-40c2-8388-647eb6a7073a",
   "metadata": {},
   "outputs": [],
   "source": [
    "X_train, y_train = load_data(\"ex2data1.txt\")"
   ]
  },
  {
   "cell_type": "code",
   "execution_count": 7,
   "id": "f34ef0e8-5dd5-4a7a-9aec-cbdc22c1c174",
   "metadata": {},
   "outputs": [
    {
     "name": "stdout",
     "output_type": "stream",
     "text": [
      "X : \n",
      "[[34.62365962 78.02469282]\n",
      " [30.28671077 43.89499752]\n",
      " [35.84740877 72.90219803]\n",
      " [60.18259939 86.3085521 ]\n",
      " [79.03273605 75.34437644]]\n",
      "type of  X_train :  <class 'numpy.ndarray'>\n"
     ]
    }
   ],
   "source": [
    "print(f\"X : \\n{X_train[:5]}\")\n",
    "print(\"type of  X_train : \",type(X_train))"
   ]
  },
  {
   "cell_type": "code",
   "execution_count": 8,
   "id": "8d9a0142-fb96-4a7f-881b-508aef1a6562",
   "metadata": {},
   "outputs": [
    {
     "name": "stdout",
     "output_type": "stream",
     "text": [
      "First elements in the Y :  [0. 0. 0. 1. 1.]\n"
     ]
    }
   ],
   "source": [
    "print(\"First elements in the Y : \", y_train[:5])"
   ]
  },
  {
   "cell_type": "code",
   "execution_count": 9,
   "id": "567e1585-5db3-4880-bd0b-ff6ae19eb2f2",
   "metadata": {},
   "outputs": [
    {
     "name": "stdout",
     "output_type": "stream",
     "text": [
      "The shape of X_train is : (100, 2)\n",
      "The shape of y_train is : (100,)\n"
     ]
    }
   ],
   "source": [
    "print(\"The shape of X_train is : \" + str(X_train.shape))\n",
    "print(\"The shape of y_train is : \" + str(y_train.shape))"
   ]
  },
  {
   "cell_type": "code",
   "execution_count": 10,
   "id": "a65a2685-e47a-427e-bc3d-f152660778d6",
   "metadata": {},
   "outputs": [
    {
     "name": "stdout",
     "output_type": "stream",
     "text": [
      "we have m = 100 training examples \n",
      "for eache training examples , there are 2 features \n"
     ]
    }
   ],
   "source": [
    "print(\"we have m = %d training examples \" % (len(y_train)))\n",
    "print(f'for eache training examples , there are {X_train.shape[1]} features ')"
   ]
  },
  {
   "cell_type": "code",
   "execution_count": 11,
   "id": "253832ef-cff9-4887-9ff0-94e8189ab9e9",
   "metadata": {},
   "outputs": [],
   "source": [
    "def plot_data(X,y,pos_label=\"y=1\",neg_label=\"y=1\"):\n",
    "    positive=y==1\n",
    "    negative=y==0\n",
    "    plt.plot(X[positive,0],X[positive,1],'k+',label=pos_label)\n",
    "    plt.plot(X[negative,0],X[negative,1],'yo',label=neg_label)"
   ]
  },
  {
   "cell_type": "code",
   "execution_count": 12,
   "id": "813f0529-3da0-4f37-8e90-5cd99eb38122",
   "metadata": {},
   "outputs": [
    {
     "data": {
      "text/plain": [
       "Text(0.5, 0, 'Exam 1 score')"
      ]
     },
     "execution_count": 12,
     "metadata": {},
     "output_type": "execute_result"
    },
    {
     "data": {
      "image/png": "[encoded data removed]",
      "text/plain": [
       "<Figure size 640x480 with 1 Axes>"
      ]
     },
     "metadata": {},
     "output_type": "display_data"
    }
   ],
   "source": [
    "plot_data(X_train,y_train[:],pos_label=\"Admitted\",neg_label=\"Not admitted\")\n",
    "plt.ylabel('Exam 2 score')\n",
    "plt.xlabel('Exam 1 score')"
   ]
  },
  {
   "cell_type": "code",
   "execution_count": 13,
   "id": "4ffc3702-bb84-4de9-8b82-fdf3363e13a1",
   "metadata": {},
   "outputs": [],
   "source": [
    "def sigmoid(z):\n",
    "    return 1/(1+np.exp(-z))"
   ]
  },
  {
   "cell_type": "code",
   "execution_count": 14,
   "id": "a52bf88a-a852-49b7-8389-729e527de52d",
   "metadata": {},
   "outputs": [
    {
     "name": "stdout",
     "output_type": "stream",
     "text": [
      "sigmoid(0) : 0.5\n"
     ]
    }
   ],
   "source": [
    "print(\"sigmoid(0) : \" + str(sigmoid(0)))"
   ]
  },
  {
   "cell_type": "code",
   "execution_count": 15,
   "id": "eec4a1e8-c2a6-4a35-ad41-216b464748bd",
   "metadata": {},
   "outputs": [
    {
     "name": "stdout",
     "output_type": "stream",
     "text": [
      "sigmoid([ -1, 0, 1, 2]) = [0.26894142 0.5        0.73105858 0.88079708]\n"
     ]
    }
   ],
   "source": [
    "print (\"sigmoid([ -1, 0, 1, 2]) = \" + str(sigmoid(np.array([-1, 0, 1, 2]))))\n"
   ]
  },
  {
   "cell_type": "markdown",
   "id": "f5303a9e-be1b-48de-ba32-c2a92abfdb8b",
   "metadata": {},
   "source": [
    "## COST FUNCTION"
   ]
  },
  {
   "cell_type": "code",
   "execution_count": 16,
   "id": "cb5477af-ec50-4fd3-b635-2f6cc0684525",
   "metadata": {},
   "outputs": [],
   "source": [
    "#cost function \n",
    "def compute_cost(X,y,w,b,lambda_ = 1):\n",
    "    m,n = X.shape\n",
    "    cost = 0\n",
    "    for i in range(m):\n",
    "        z = np.dot(X[i],w) + b\n",
    "        f_wb = sigmoid(z)\n",
    "        cost += -y[i]*np.log(f_wb)- (1-y[i])*np.log(1-f_wb)\n",
    "    total_cost = cost/m\n",
    "    return total_cost"
   ]
  },
  {
   "cell_type": "code",
   "execution_count": 17,
   "id": "319fb6a8-a34b-4793-88ae-bc601e3a56a4",
   "metadata": {},
   "outputs": [
    {
     "name": "stdout",
     "output_type": "stream",
     "text": [
      "Cost at initial w (zeros) : 0.693\n"
     ]
    }
   ],
   "source": [
    "m,n = X_train.shape\n",
    "initial_w = np.zeros(n)\n",
    "initial_b = 0\n",
    "cost = compute_cost(X_train,y_train,initial_w,initial_b)\n",
    "print('Cost at initial w (zeros) : {:.3f}'.format(cost))"
   ]
  },
  {
   "cell_type": "markdown",
   "id": "dd7785f0-b981-46b2-bac0-d7620cab557b",
   "metadata": {},
   "source": [
    "## Gradient cost function"
   ]
  },
  {
   "cell_type": "code",
   "execution_count": 18,
   "id": "8c769c4f-1d55-444f-a63b-d8d018cbdf9d",
   "metadata": {},
   "outputs": [],
   "source": [
    "def compute_gradient(X,y,w,b,lambda_= None):\n",
    "    m,n = X.shape\n",
    "    dj_dw = np.zeros(w.shape)\n",
    "    dj_db = 0\n",
    "    for i in range(m):\n",
    "        f_wb_i = sigmoid(np.dot(X[i],w) + b)\n",
    "        err_i = f_wb_i - y[i]\n",
    "        for j in range(n):\n",
    "            dj_dw[j] = dj_dw[j] + err_i * X[i,j]\n",
    "        dj_db = dj_db + err_i\n",
    "    dj_dw = dj_dw / m\n",
    "    dj_db = dj_db / m\n",
    "    return dj_dw , dj_db\n",
    "    "
   ]
  },
  {
   "cell_type": "markdown",
   "id": "9b74d778-5362-4ee8-8bde-300d1bfbb716",
   "metadata": {},
   "source": [
    "## Gradient Descent Algorithm"
   ]
  },
  {
   "cell_type": "code",
   "execution_count": 19,
   "id": "16466348-378e-4302-8588-f0db378cd97c",
   "metadata": {},
   "outputs": [],
   "source": [
    "#Learning parameters using gradient descent\n",
    "def gradient_descent(X,y,w_in,b_in,cost_function,gradient_function,alpha,num_iter,lambda_):\n",
    "    n = X.shape[1]\n",
    "    w = w_in\n",
    "    b = b_in\n",
    "    \n",
    "    J_history = []\n",
    "    w_history = []\n",
    "    \n",
    "    for i in range(num_iter):\n",
    "        dj_dw,dj_db = gradient_function(X,y,w,b,lambda_)\n",
    "        w = w - alpha*dj_dw\n",
    "        b = b - alpha*dj_db\n",
    "\n",
    "        if i < 10000 : \n",
    "            c = cost_function(X,y,w,b,lambda_)\n",
    "            J_history.append(c)\n",
    "        # Print the cost every at intervals 5\n",
    "        if i % math.ceil(num_iter/5) == 0 or i == (num_iter - 1):\n",
    "            w_history.append(w)\n",
    "    return w,b,J_history,w_history   \n",
    "    "
   ]
  },
  {
   "cell_type": "code",
   "execution_count": 20,
   "id": "8367f901-d0df-4048-90da-8a240c1afc05",
   "metadata": {
    "editable": true,
    "slideshow": {
     "slide_type": ""
    },
    "tags": []
   },
   "outputs": [],
   "source": [
    "np.random.seed(1)\n",
    "initial_w = 0.01 * (np.random.rand(2).reshape(-1,1) - 0.5)\n",
    "initial_b = -8\n",
    "\n",
    "iter_ = 1000\n",
    "learning_rate = 0.001\n",
    "\n",
    "w,b,J_history,_ = gradient_descent(X_train,y_train,initial_w,initial_b,\n",
    "                                   compute_cost,compute_gradient,learning_rate,iter_,0)"
   ]
  },
  {
   "cell_type": "markdown",
   "id": "03cd51f7-7188-44c7-84ba-76f538714679",
   "metadata": {},
   "source": [
    "## Model Prediction : with threshold 0.5"
   ]
  },
  {
   "cell_type": "code",
   "execution_count": 21,
   "id": "fab8fbeb-afb2-4ad1-b124-9c561a3a901d",
   "metadata": {
    "editable": true,
    "slideshow": {
     "slide_type": ""
    },
    "tags": []
   },
   "outputs": [],
   "source": [
    "def predict(X,w,b):\n",
    "    m,n = X.shape\n",
    "    p = np.zeros(m)\n",
    "    for i in range(m):\n",
    "        p_wb = np.dot(X[i],w) + b\n",
    "        f_wb = sigmoid(p_wb)\n",
    "        p[i] = 1 if f_wb > 0.5 else 0\n",
    "    return p\n",
    "    "
   ]
  },
  {
   "cell_type": "code",
   "execution_count": 22,
   "id": "37469923-0508-41ac-9df4-b0c529d77923",
   "metadata": {},
   "outputs": [
    {
     "name": "stdout",
     "output_type": "stream",
     "text": [
      "Train accuracy : 92.000000\n"
     ]
    }
   ],
   "source": [
    "p = predict(X_train,w,b)\n",
    "print('Train accuracy : %f'%(np.mean(p == y_train)*100))"
   ]
  },
  {
   "cell_type": "markdown",
   "id": "d9868aa6-c330-4f20-9b47-f30983a1cfca",
   "metadata": {},
   "source": [
    "## REGULARIZED LOGISTIC REGRESSION "
   ]
  },
  {
   "cell_type": "code",
   "execution_count": 25,
   "id": "7fad6f08-6445-43fa-85f9-8afec3efe2d2",
   "metadata": {},
   "outputs": [
    {
     "name": "stdout",
     "output_type": "stream",
     "text": [
      "X_train  [[ 0.051267  0.69956 ]\n",
      " [-0.092742  0.68494 ]\n",
      " [-0.21371   0.69225 ]\n",
      " [-0.375     0.50219 ]\n",
      " [-0.51325   0.46564 ]]\n"
     ]
    }
   ],
   "source": [
    "X_train , y_train = load_data(\"ex2data2.txt\")\n",
    "\n",
    "print(\"X_train \",X_train[:5])\n"
   ]
  },
  {
   "cell_type": "code",
   "execution_count": 26,
   "id": "9b387c21-bdcb-4da9-9cac-68383100b4a2",
   "metadata": {},
   "outputs": [
    {
     "name": "stdout",
     "output_type": "stream",
     "text": [
      "the shape of X_train : (118, 2)\n",
      "the shape of Y : 118\n"
     ]
    }
   ],
   "source": [
    "print('the shape of X_train : '+ str(X_train.shape))\n",
    "print('the shape of Y : ' + str(y_train.shape[0]))"
   ]
  },
  {
   "cell_type": "code",
   "execution_count": 27,
   "id": "ee568ad3-66c4-4d78-8988-cacba781cf83",
   "metadata": {},
   "outputs": [
    {
     "data": {
      "text/plain": [
       "Text(0.5, 0, 'Mircochip Test 1')"
      ]
     },
     "execution_count": 27,
     "metadata": {},
     "output_type": "execute_result"
    },
    {
     "data": {
      "image/png": "[encoded data removed]",
      "text/plain": [
       "<Figure size 640x480 with 1 Axes>"
      ]
     },
     "metadata": {},
     "output_type": "display_data"
    }
   ],
   "source": [
    "plot_data(X_train,y_train,pos_label=\"Accepted\",neg_label=\"Rejected\")\n",
    "plt.ylabel('Microchip Test 2')\n",
    "plt.xlabel('Mircochip Test 1') "
   ]
  },
  {
   "cell_type": "code",
   "execution_count": null,
   "id": "93fc3d84-0db0-4ab2-b3d3-f903216d0b25",
   "metadata": {},
   "outputs": [],
   "source": [
    "\n"
   ]
  }
 ],
 "metadata": {
  "kernelspec": {
   "display_name": "Python 3 (ipykernel)",
   "language": "python",
   "name": "python3"
  },
  "language_info": {
   "codemirror_mode": {
    "name": "ipython",
    "version": 3
   },
   "file_extension": ".py",
   "mimetype": "text/x-python",
   "name": "python",
   "nbconvert_exporter": "python",
   "pygments_lexer": "ipython3",
   "version": "3.12.5"
  }
 },
 "nbformat": 4,
 "nbformat_minor": 5
}
